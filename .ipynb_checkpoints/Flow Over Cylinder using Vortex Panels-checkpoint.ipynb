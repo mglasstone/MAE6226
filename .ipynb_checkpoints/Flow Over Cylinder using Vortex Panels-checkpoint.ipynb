{
 "metadata": {
  "name": "",
  "signature": "sha256:b37b177d1b5f2699a4f3c2b07824c6160d3e74391167bcfa25c92d639592df4b"
 },
 "nbformat": 3,
 "nbformat_minor": 0,
 "worksheets": [
  {
   "cells": [
    {
     "cell_type": "code",
     "collapsed": false,
     "input": [
      "import math\n",
      "import numpy\n",
      "from scipy import integrate\n",
      "from matplotlib import pyplot"
     ],
     "language": "python",
     "metadata": {},
     "outputs": []
    },
    {
     "cell_type": "code",
     "collapsed": false,
     "input": [
      "u_inf = 1.0             # free-stream speed"
     ],
     "language": "python",
     "metadata": {},
     "outputs": []
    },
    {
     "cell_type": "code",
     "collapsed": false,
     "input": [
      "# defines the cylinder\n",
      "R = 1.0                                                     # radius\n",
      "theta = numpy.linspace(0, 2*math.pi, 100)                           # angles in radians\n",
      "x_cylinder, y_cylinder = R*numpy.cos(theta), R*numpy.sin(theta)   # coordinates of the cylinder\n",
      "\n",
      "# plots the cylinder\n",
      "%matplotlib inline\n",
      "\n",
      "size = 4\n",
      "pyplot.figure(figsize=(size, size))\n",
      "pyplot.grid(True)\n",
      "pyplot.xlabel('x', fontsize=16)\n",
      "pyplot.ylabel('y', fontsize=16)\n",
      "pyplot.plot(x_cylinder, y_cylinder, color='b', linestyle='-', linewidth=2)\n",
      "pyplot.xlim(-1.1, 1.1)\n",
      "pyplot.ylim(-1.1, 1.1);"
     ],
     "language": "python",
     "metadata": {},
     "outputs": []
    },
    {
     "cell_type": "code",
     "collapsed": false,
     "input": [
      "class Panel:\n",
      "    \"\"\"Contains information related to a panel.\"\"\"\n",
      "    def __init__(self, xa, ya, xb, yb,):\n",
      "        \"\"\"Initializes the panel.\n",
      "        \n",
      "        Arguments\n",
      "        ---------\n",
      "        xa, ya -- coordinates of the first end-point of the panel.\n",
      "        xb, yb -- coordinates of the second end-point of the panel.\n",
      "        \"\"\"\n",
      "        self.xa, self.ya = xa, ya\n",
      "        self.xb, selt.yb = xb, yb \n",
      "        \n",
      "        self.xc, self.yc = (xa+xb)/2, (ya+yb)/2 # control point - center point\n",
      "        self.length = math.sqrt((xb-xa)**2 + (yb-ya)**2) # length of panel\n",
      "        \n",
      "        if xb-xa <= 0.:\n",
      "            self.beta = math.acos((yb-ya)/self.length)\n",
      "        elif xb-xa > 0.:\n",
      "            self.beta = math.pi + math.acos((-(yb-ya)/self.length)\n",
      "                                            \n",
      "        self.sigma = 0.\n",
      "        self.vt = 0.\n",
      "        self.cp = 0."
     ],
     "language": "python",
     "metadata": {},
     "outputs": []
    },
    {
     "cell_type": "code",
     "collapsed": false,
     "input": [
      "N_panels = 10\n",
      "\n",
      "# define endpoints of panels\n",
      "x_ends = R*numpy.cos(numpy.linspace(0,2*math.pi, N_panels+1))\n",
      "y_ends = R*numpy.sin(numpy.linspace(0,2*math.pi, N_panels+1))\n",
      "\n",
      "#defining the panels\n",
      "panels = numpy.empty(N_panels, dtype=object)\n",
      "for i in xrange(N_panels):\n",
      "    panels[i] = Panel(x_ends[i], y_ends[i], x_ends[i+1], y_ends[i+1])\n",
      "    \n",
      "# plotting the panels\n",
      "size = 6\n",
      "pyplot.figure(figsize=(size, size))\n",
      "pyplot.grid(True)\n",
      "pyplot.xlabel('x', fontsize=16)\n",
      "pyplot.ylabel('y', fontsize=16)\n",
      "pyplot.plot(x_cylinder, y_cylinder, color='b', linestyle='-', linewidth=1)\n",
      "pyplot.plot(x_ends, y_ends, color='#CD2305', linestyle='-', linewidth=2)\n",
      "pyplot.scatter([p.xa for p in panels], [p.ya for p in panels], color='#CD2305', s=40)\n",
      "pyplot.scatter([p.xc for p in panels], [p.yc for p in panels], color='k', s=40, zorder=3)\n",
      "pyplot.legend(['cylinder', 'panels', 'end-points', 'center-points'], \n",
      "           loc='best', prop={'size':16})\n",
      "pyplot.xlim(-1.1, 1.1)\n",
      "pyplot.ylim(-1.1, 1.1);"
     ],
     "language": "python",
     "metadata": {},
     "outputs": []
    },
    {
     "cell_type": "code",
     "collapsed": false,
     "input": [
      "def integrate_normal(p_i,p_j):\n",
      "    \"\"\"Evaluates the contribution of a panel at the center-point of another,\n",
      "    in the normal direction.\n",
      "    \n",
      "    Arguments\n",
      "    ---------\n",
      "    p_i -- panel on which the contribution is calculated.\n",
      "    p_j -- panel from which the contribution is calculated.\n",
      "    \n",
      "    Returns\n",
      "    -------\n",
      "    Integral over the panel of the influence at a control-point.\n",
      "    \"\"\"\n",
      "    def func(s):\n",
      "\t\treturn ( (+(p_i.xc-(p_j.xa-math.sin(p_j.beta)*s))*math.cos(p_i.beta)\n",
      "                  +(p_i.yc-(p_j.ya+math.cos(p_j.beta)*s))*math.sin(p_i.beta))\n",
      "                /((p_i.xc-(p_j.xa-math.sin(p_j.beta)*s))**2\n",
      "                  +(p_i.yc-(p_j.ya+math.cos(p_j.beta)*s))**2) )\n",
      "    return integrate.quad(lambda s:func(s), 0., p_j.length)[0]"
     ],
     "language": "python",
     "metadata": {},
     "outputs": []
    },
    {
     "cell_type": "code",
     "collapsed": false,
     "input": [
      "# computes the source influence matrix\n",
      "A = numpy.empty((N_panels, N_panels), dtype=float)\n",
      "numpy.fill_diagonal(A,0.5)\n",
      "\n",
      "for i, p_i in enumerate(panels):\n",
      "    for j, p_j in enumerate(panels):\n",
      "        if i != j:\n",
      "            A[i,j] = 0.5/math.pi*integral_normal(p_i, p_j)\n",
      "            \n",
      "# computes the RHS of the linear system\n",
      "b = -u_inf * numpy.cos([p.beta for p in panels])"
     ],
     "language": "python",
     "metadata": {},
     "outputs": []
    },
    {
     "cell_type": "code",
     "collapsed": false,
     "input": [
      "# solves the linear system\n",
      "sigma = numpy.linalg.solve(A,b)\n",
      "\n",
      "for i, panel in enumerate(panels):\n",
      "    panel.sigma = sigma[i]"
     ],
     "language": "python",
     "metadata": {},
     "outputs": []
    },
    {
     "cell_type": "code",
     "collapsed": false,
     "input": [
      "def integral_tangential(p_i, p_j):\n",
      "    \"\"\"Evaluates the contribution of a panel at the center-point of another,\n",
      "    in the tangential direction.\n",
      "    \n",
      "    Arguments\n",
      "    ---------\n",
      "    p_i -- panel on which the contribution is calculated.\n",
      "    p_j -- panel from which the contribution is calculated.\n",
      "    \n",
      "    Returns\n",
      "    -------\n",
      "    Integral over the panel of the influence at a control-point.\n",
      "    \"\"\"\n",
      "    def func(s):\n",
      "        return ( (-(p_i.xc-(p_j.xa-math.sin(p_j.beta)*s))*math.sin(p_i.beta)\n",
      "                  +(p_i.yc-(p_j.ya+math.cos(p_j.beta)*s))*math.cos(p_i.beta))\n",
      "                /((p_i.xc-(p_j.xa-math.sin(p_j.beta)*s))**2\n",
      "                  +(p_i.yc-(p_j.ya+math.cos(p_j.beta)*s))**2) )\n",
      "    return integrate.quad(lambda s:func(s),0.,p_j.length)[0]"
     ],
     "language": "python",
     "metadata": {},
     "outputs": []
    },
    {
     "cell_type": "code",
     "collapsed": false,
     "input": [
      "# computes the matrix of the linear system\n",
      "A = numpy.empty((N_panels, N_panels), dtype=float)\n",
      "numpy.fill_diagonal(A, 0.0)\n",
      "\n",
      "for i, p_i in enumerate(panels):\n",
      "    for j, p_j in enumerate(panels):\n",
      "        if i != j:\n",
      "            A[i,j] = 0.5/math.pi*integral_tangential(p_i, p_j)\n",
      "\n",
      "# computes the RHS of the linear system\n",
      "b = - u_inf * numpy.sin([panel.beta for panel in panels])\n",
      "\n",
      "# computes the tangential velocity at each panel center-point\n",
      "vt = numpy.dot(A, sigma) + b\n",
      "\n",
      "for i, panel in enumerate(panels):\n",
      "    panel.vt = vt[i]"
     ],
     "language": "python",
     "metadata": {},
     "outputs": []
    },
    {
     "cell_type": "code",
     "collapsed": false,
     "input": [
      "# calculates the surface pressure coefficient\n",
      "for panel in panels:\n",
      "    panel.cp = 1.0 - (panel.vt/u_inf)**2"
     ],
     "language": "python",
     "metadata": {},
     "outputs": []
    },
    {
     "cell_type": "code",
     "collapsed": false,
     "input": [
      "# calculates the analytical surface pressure coefficient\n",
      "cp_analytical = 1.0 - 4*(y_cylinder/R)**2\n",
      "\n",
      "# plots the surface pressure coefficient\n",
      "pyplot.figure(figsize=(10, 6))\n",
      "pyplot.grid(True)\n",
      "pyplot.xlabel('x', fontsize=16)\n",
      "pyplot.ylabel('$C_p$', fontsize=16)\n",
      "pyplot.plot(x_cylinder, cp_analytical, color='b', linestyle='-', linewidth=1, zorder=1)\n",
      "pyplot.scatter([p.xc for p in panels], [p.cp for p in panels], color='#CD2305', s=40, zorder=2)\n",
      "pyplot.title('Number of panels : %d' % N_panels, fontsize=16)\n",
      "pyplot.legend(['analytical', 'source panel method'], loc='best', prop={'size':16})\n",
      "pyplot.xlim(-1.0, 1.0)\n",
      "pyplot.ylim(-4.0, 2.0);"
     ],
     "language": "python",
     "metadata": {},
     "outputs": []
    }
   ],
   "metadata": {}
  }
 ]
}