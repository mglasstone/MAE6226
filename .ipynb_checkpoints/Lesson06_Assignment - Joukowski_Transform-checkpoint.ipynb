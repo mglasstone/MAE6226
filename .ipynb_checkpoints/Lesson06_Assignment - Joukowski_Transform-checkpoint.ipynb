{
 "metadata": {
  "name": "",
  "signature": "sha256:4d304c2c2ea4f705e299a0829ab8de974b170b89b853737c0636653666c21f53"
 },
 "nbformat": 3,
 "nbformat_minor": 0,
 "worksheets": []
}