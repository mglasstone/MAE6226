{
 "metadata": {
  "name": "",
  "signature": "sha256:cdd4dbb6bb1ae1698f30fc303c6e38084d02b27d9dce8c010a50a866618aaf50"
 },
 "nbformat": 3,
 "nbformat_minor": 0,
 "worksheets": [
  {
   "cells": [
    {
     "cell_type": "code",
     "collapsed": false,
     "input": [
      "import numpy\n",
      "import math\n",
      "from matplotlib import pyplot"
     ],
     "language": "python",
     "metadata": {},
     "outputs": []
    },
    {
     "cell_type": "code",
     "collapsed": false,
     "input": [
      "# Define grid information\n",
      "N = 50\n",
      "x_start, x_end = -2.0, 2.0\n",
      "y_start, y_end = -1.0, 1.0\n",
      "x = numpy.linspace(x_start, x_end, N)\n",
      "y = numpy.linspace(y_start, y_end, N)\n",
      "X, Y = numpy.meshgrid(x,y)"
     ],
     "language": "python",
     "metadata": {},
     "outputs": []
    },
    {
     "cell_type": "code",
     "collapsed": false,
     "input": [
      "# vortex sheet information\n",
      "gamma = 5 # strength of vortex\n",
      "num_vortex = 10 # number of vortices in sheet\n",
      "x_vortex = numpy.linspace(x_start, x_end, num_vortex)\n",
      "y_vortex = 0 # all along center line\n"
     ],
     "language": "python",
     "metadata": {},
     "outputs": []
    }
   ],
   "metadata": {}
  }
 ]
}