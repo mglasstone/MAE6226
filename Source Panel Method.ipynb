{
 "metadata": {
  "name": "",
  "signature": "sha256:4793e080d8a5f6979bf90750ff54d6d1356cb0c1d044b8b86da8d4179fd34285"
 },
 "nbformat": 3,
 "nbformat_minor": 0,
 "worksheets": [
  {
   "cells": [
    {
     "cell_type": "code",
     "collapsed": false,
     "input": [
      "import math\n",
      "importy numpy\n",
      "from scipy import integrate \n",
      "from matplotlib import pyplot"
     ],
     "language": "python",
     "metadata": {},
     "outputs": [
      {
       "ename": "SyntaxError",
       "evalue": "invalid syntax (<ipython-input-2-73ee00a4bbb8>, line 2)",
       "output_type": "pyerr",
       "traceback": [
        "\u001b[0;36m  File \u001b[0;32m\"<ipython-input-2-73ee00a4bbb8>\"\u001b[0;36m, line \u001b[0;32m2\u001b[0m\n\u001b[0;31m    importy numpy\u001b[0m\n\u001b[0m                ^\u001b[0m\n\u001b[0;31mSyntaxError\u001b[0m\u001b[0;31m:\u001b[0m invalid syntax\n"
       ]
      }
     ],
     "prompt_number": 2
    },
    {
     "cell_type": "code",
     "collapsed": false,
     "input": [
      "# reads the geometry from a data file\n",
      "with open ('./resources/naca0012.dat') as file_name:\n",
      "    x, y = numpy.loadtxt(file_nale, dtype=float, delimiter='\\t', unpack=True)\n",
      "\n",
      "%matplotlib inline\n",
      "\n",
      "val_x, val_y = 0.1, 0.2\n",
      "x_min, x_max = x.min(), x.max()\n",
      "y_min, y_max = y.min(), y.max()\n",
      "x_start, x_end = x_min-val_x*(x_max-x_min), x_max+val_x*(x_max-x_min)\n",
      "y_start, y_end = y_min-val_y*(y_max-y_min), y_max+val_y*(y_max-y_min)\n",
      "\n",
      "size = 10\n",
      "pyplot.figure(figsize=(size, (y_end-y_start)/(x_end-x_start)*size))\n",
      "pyplot.grid(True)\n",
      "pyplot.xlabel('x', fontsize=16)\n",
      "pyplot.ylabel('y', fontsize=16)\n",
      "pyplot.xlim(x_start, x_end)\n",
      "pyplot.ylim(y_start, y_end)\n",
      "pyplot.plot(x, y, color='k', linestyle='-', linewidth=2);"
     ],
     "language": "python",
     "metadata": {},
     "outputs": [
      {
       "ename": "IOError",
       "evalue": "[Errno 2] No such file or directory: './resources/naca0012.dat'",
       "output_type": "pyerr",
       "traceback": [
        "\u001b[0;31m---------------------------------------------------------------------------\u001b[0m\n\u001b[0;31mIOError\u001b[0m                                   Traceback (most recent call last)",
        "\u001b[0;32m<ipython-input-3-b181652ab4f7>\u001b[0m in \u001b[0;36m<module>\u001b[0;34m()\u001b[0m\n\u001b[1;32m      1\u001b[0m \u001b[0;31m# reads the geometry from a data file\u001b[0m\u001b[0;34m\u001b[0m\u001b[0;34m\u001b[0m\u001b[0m\n\u001b[0;32m----> 2\u001b[0;31m \u001b[0;32mwith\u001b[0m \u001b[0mopen\u001b[0m \u001b[0;34m(\u001b[0m\u001b[0;34m'./resources/naca0012.dat'\u001b[0m\u001b[0;34m)\u001b[0m \u001b[0;32mas\u001b[0m \u001b[0mfile_name\u001b[0m\u001b[0;34m:\u001b[0m\u001b[0;34m\u001b[0m\u001b[0m\n\u001b[0m\u001b[1;32m      3\u001b[0m     \u001b[0mx\u001b[0m\u001b[0;34m,\u001b[0m \u001b[0my\u001b[0m \u001b[0;34m=\u001b[0m \u001b[0mnumpy\u001b[0m\u001b[0;34m.\u001b[0m\u001b[0mloadtxt\u001b[0m\u001b[0;34m(\u001b[0m\u001b[0mfile_nale\u001b[0m\u001b[0;34m,\u001b[0m \u001b[0mdtype\u001b[0m\u001b[0;34m=\u001b[0m\u001b[0mfloat\u001b[0m\u001b[0;34m,\u001b[0m \u001b[0mdelimiter\u001b[0m\u001b[0;34m=\u001b[0m\u001b[0;34m'\\t'\u001b[0m\u001b[0;34m,\u001b[0m \u001b[0munpack\u001b[0m\u001b[0;34m=\u001b[0m\u001b[0mTrue\u001b[0m\u001b[0;34m)\u001b[0m\u001b[0;34m\u001b[0m\u001b[0m\n\u001b[1;32m      4\u001b[0m \u001b[0;34m\u001b[0m\u001b[0m\n\u001b[1;32m      5\u001b[0m \u001b[0mget_ipython\u001b[0m\u001b[0;34m(\u001b[0m\u001b[0;34m)\u001b[0m\u001b[0;34m.\u001b[0m\u001b[0mmagic\u001b[0m\u001b[0;34m(\u001b[0m\u001b[0;34mu'matplotlib inline'\u001b[0m\u001b[0;34m)\u001b[0m\u001b[0;34m\u001b[0m\u001b[0m\n",
        "\u001b[0;31mIOError\u001b[0m: [Errno 2] No such file or directory: './resources/naca0012.dat'"
       ]
      }
     ],
     "prompt_number": 3
    },
    {
     "cell_type": "code",
     "collapsed": false,
     "input": [
      "class Panel:\n",
      "    \"\"\"Contains information related to a panel.\"\"\"\n",
      "    def __init__(self, xa, ya, xb, yb):\n",
      "        \"\"\"Creates a panel.\n",
      "        \n",
      "        Arguments\n",
      "        ---------\n",
      "        xa, ya -- Cartesian coordinates of the first end-point.\n",
      "        xb, yb -- Cartesian coordinates of the second end-point.\n",
      "        \"\"\"\n",
      "        self.xa, self.ya = xa, ya\n",
      "        self.xb, self.yb = xb, yb\n",
      "        \n",
      "        self.xc, self.yc = (xa+xb)/2, (ya+yb)/2       # control-point (center-point)\n",
      "        self.length = math.sqrt((xb-xa)**2+(yb-ya)**2)     # length of the panel\n",
      "        \n",
      "        # orientation of the panel (angle between x-axis and panel's normal)\n",
      "        if xb-xa <= 0.:\n",
      "            self.beta = math.acos((yb-ya)/self.length)\n",
      "        elif xb-xa > 0.:\n",
      "            self.beta = math.pi + math.acos(-(yb-ya)/self.length)\n",
      "        \n",
      "        # location of the panel\n",
      "        if self.beta <= math.pi:\n",
      "            self.loc = 'extrados'\n",
      "        else:\n",
      "            self.loc = 'intrados'\n",
      "        \n",
      "        self.sigma = 0.                             # source strength\n",
      "        self.vt = 0.                                # tangential velocity\n",
      "        self.cp = 0.                                # pressure coefficient"
     ],
     "language": "python",
     "metadata": {},
     "outputs": []
    }
   ],
   "metadata": {}
  }
 ]
}