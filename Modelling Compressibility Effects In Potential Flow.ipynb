{
 "metadata": {
  "name": "",
  "signature": "sha256:2aa3e3f837a8230b4cf8becc4f1ab15bb07bac9191cb26cc7c43f79938b16a7b"
 },
 "nbformat": 3,
 "nbformat_minor": 0,
 "worksheets": [
  {
   "cells": [
    {
     "cell_type": "heading",
     "level": 3,
     "metadata": {},
     "source": [
      "Motivation"
     ]
    },
    {
     "cell_type": "markdown",
     "metadata": {},
     "source": [
      "Potential flow theory has a range of useful applications, many of which have been covered already in MAE6226. The backbone of potential flow theory is  the principle of superposition. This allows for complex geometries to be analyzed by adding together the solutions of simpler geometries. This allows us to apply potential flow for everything from the visualization of flow over a cylinder to finding the lift of an airfoil.\n",
      "\n",
      "A series of assumptions are necessary in order to apply potential flow theory. These are:\n",
      "* Steady flow\n",
      "* Incompressible fluid\n",
      "* Inviscid\n",
      "* Irrotaitonal\n",
      "\n",
      "Said best by John von Neumann, the result of these assumptions is that the flow is \"so unphysical that the only fluid to obey the assumptions is 'Dry Water'\". Using clever math, the incompressible fluid assumption can be relaxed at low to moderate Mach numbers. By reducing the number of assumptions, the \"realism\" of the modelled flows can be increased.  "
     ]
    },
    {
     "cell_type": "heading",
     "level": 3,
     "metadata": {},
     "source": [
      "The Math - The Velocity Potential Equation"
     ]
    },
    {
     "cell_type": "markdown",
     "metadata": {},
     "source": [
      "Starting from first principles, the velocity potential equation can be derived for a compressible fluid. \n",
      "\n",
      "$$\\left[1-\\frac{1}{a^2} \\left(\\frac{\\partial\\phi}{\\partial x}\\right)^2\\right] \\frac{\\partial^2\\phi}{\\partial x^2} + \\left[1-\\frac{1}{a^2} \\left(\\frac{\\partial\\phi}{\\partial y}\\right)^2\\right] \\frac{\\partial^2\\phi}{\\partial y^2} - \\frac{2}{a^2}\\left(\\frac{\\partial\\phi}{\\partial x}\\right)\\left(\\frac{\\partial\\phi}{\\partial y}\\right)\\frac{\\partial^2\\phi}{\\partial x \\partial y} = 0$$\n",
      "\n",
      "This equation has two unknowns: a, the local speed of sound, and $\\phi$, the velocity potential. In order to reduce the velocity potential equation to a partial differential equation of one unkown, the local speed of sound can be written in terms of the velocity potential $\\phi$ and the speed of sound of the free stream $a_0$. This equation is shown below:\n",
      "\n",
      "$$a^2 = a_0^2 - \\frac{\\gamma -1}{2}\\left[\\left(\\frac{\\partial\\phi}{\\partial x}\\right)^2 + \\left(\\frac{\\partial\\phi}{\\partial y}\\right)^2 \\right]$$\n",
      "\n",
      "In its current form, the velocity potential equation is exact and holds for all Mach numbers and geometries.\n",
      "\n",
      "Unforunately, the velocity potential equation in its current form is non-linear. This prevents the principle of superposition from being applied, a major problem if we want to analyze any complex geometries. By limiting the range of Mach numbers and possible geometries, the velocity potential equation can be linearized. \n",
      "\n"
     ]
    },
    {
     "cell_type": "heading",
     "level": 3,
     "metadata": {},
     "source": [
      "The Math - The Linearized Velocity Potential Equation"
     ]
    },
    {
     "cell_type": "markdown",
     "metadata": {},
     "source": [
      "The velocity vectors of a flow can be rewritten in terms of a mean flow component and a perturbation component. For an arbitrary flow with the free stream flowing soley in the x direction, the velocity vectors can be written in terms of their mean flow and perturbation components. $\\hat{u}$ and $\\hat{v}$ are called the perturbation velocities.\n",
      "\n",
      "$$u = U_\\infty + \\hat{u} \\quad v = \\hat{v}$$\n",
      "\n",
      "Similarly, a perturbation velocity potential, $\\hat{\\phi}$ can be defined such that:\n",
      "\n",
      "$$\\phi = U_\\infty x + \\hat{\\phi} \\quad \\hat{u} = \\frac{\\partial\\hat{\\phi}}{\\partial x} \\quad \\hat{v} = \\frac{\\partial\\hat{\\phi}}{\\partial y}$$\n",
      "\n",
      "The perturbation velocity potential can be substituted into the velocity potential equation to obtain the perturbation velocity potential equation, shown below.\n",
      "\n",
      "$$\\left[a^2 - \\left(U_\\infty + \\frac{\\partial \\hat{\\phi}}{\\partial x}\\right)^2 \\right]\\frac{\\partial^2 \\hat{\\phi}}{\\partial x^2} + \\left[a^2 - \\left(\\frac{\\partial \\hat{\\phi}}{\\partial y}\\right)^2 \\right]\\frac{\\partial^2 \\hat{\\phi}}{\\partial y^2} - 2\\left(U_\\infty + \\frac{\\partial \\hat{\\phi}}{\\partial x}\\right)\\left(\\frac{\\partial \\hat{\\phi}}{\\partial y}\\right)\\frac{\\partial^2 \\hat{\\phi}}{\\partial x \\partial y} = 0$$\n",
      "\n",
      "Using the energy equation for compressible fluids, written in terms of Mach number and $\\gamma$, we can rewrite the perturbation velocity equation as follows:\n",
      "\n",
      "$$\\left(1-M_\\infty ^2\\right)\\frac{\\partial\\hat{u}}{\\partial x} + \\frac{\\partial\\hat{v}}{\\partial y} = M_\\infty ^2 \\left[\\left(\\gamma +1 \\right)\\frac{\\hat{u}}{V_\\infty} + \\frac{\\gamma + 1}{2}\\frac{\\hat{u}^2}{V_\\infty ^2} + \\frac{\\gamma -1}{2}\\frac{\\hat{v}^2}{V_\\infty ^2}\\right]\\frac{\\partial\\hat{u}}{\\partial x} + M_\\infty ^2 \\left[\\left(\\gamma -1\\right)\\frac{\\hat{u}}{V_\\infty} + \\frac{\\gamma+1}{2}\\frac{\\hat{v}^2}{V_\\infty ^2} + \\frac{\\gamma -1}{2}\\frac{\\hat{u}^2}{V_\\infty ^2} \\right]\\frac{\\partial\\hat{v}}{\\partial y} + M_\\infty ^2 \\left[\\frac{\\hat{v}}{V_\\infty} \\left(1+\\frac{\\hat{u}}{V_\\infty}\\right)\\left(\\frac{\\partial \\hat{u}}{\\partial y} + \\frac{\\partial \\hat{v}}{\\partial x} \\right) \\right]$$\n",
      "\n",
      "This equation is still exact for irrotational, isentropic flow. The left-hand side of the equation is now linear while the right-hand side remains nonlinear.\n",
      "\n",
      "In order to linearize the right-hand side of the equation, we will limit the size of the perturbations by considering only slender bodies at small angles of attack. Once we have constrained the geometry, order of mangnitude arguments are applied in order to cancel out negligible terms.\n",
      "\n",
      "Since we have limited the size of the perturbations, compared to the magnitude of the mean flow any perturbations are negligible in magnitude. Thus:\n",
      "\n",
      "$$\\frac{\\hat{u}}{V_\\infty},\\frac{\\hat{v}}{V_\\infty} \\ll 1 \\quad and \\quad \\frac{\\hat{u}^2}{V_\\infty ^2}, \\frac{\\hat{v} ^2}{V_\\infty ^2} \\ll 1$$\n",
      "\n",
      "Assuming small perturbations is not enough to linearize the right-hand side of the equations. In order to fully linearize the perturbation velocity equation, we must also limit the mach number range.\n",
      "\n",
      "For $0 \\leq M_\\infty 0.8$ or $M_\\infty \\geq 1.2$, the magnitude of \n",
      "\n",
      "$$M_\\infty ^2 \\left[\\left(\\gamma +1 \\right)\\frac{\\hat{u}}{V_\\infty} + \\text{ ... } \\right]\\frac{\\partial \\hat{u}}{\\partial x} \\ll \\left(1-M_\\infty ^2 \\right)\\frac{\\partial \\hat{u}}{\\partial x} $$\n",
      "\n",
      "so ignore that term on the right-hand side of the perturbation velocity equation.\n",
      "\n",
      "For $M_\\infty \\leq 5$ \n",
      "\n",
      "$$M_\\infty ^2 \\left[\\left(\\gamma -1 \\right)\\frac{\\hat{u}}{V_\\infty} + \\text{ ... } \\right]\\frac{\\partial \\hat{v}}{\\partial y} \\ll \\frac{\\partial \\hat{v}}{\\partial y}$$\n",
      "\n",
      "so that term is also ignored.\n",
      "\n",
      "In a similar vien, \n",
      "\n",
      "$$M_\\infty ^2 \\left[\\frac{\\hat{v}}{V_\\infty} \\left(1 + \\frac{\\hat{v}}{V_\\infty} \\right)\\left(\\frac{\\partial \\hat{u}}{\\partial y} + \\frac{\\partial \\hat{v}}{\\partial x} \\right) \\right] \\approx 0$$\n",
      "\n",
      "Using these order-of-magnitude arguments, the perturbation velocity equation reduces to:\n",
      "\n",
      "$$\\left(1 - M_\\infty ^2 \\right)\\frac{\\partial \\hat{u}}{\\partial x} + \\frac{\\partial \\hat{v}}{\\partial y} = 0$$\n",
      "\n",
      "Rewriting this in terms of the pertubation velocity potential,\n",
      "\n",
      "$$\\left(1 - M_\\infty ^2 \\right)\\frac{\\partial ^2 \\hat{\\phi}}{\\partial x^2} + \\frac{\\partial ^2 \\hat{\\phi}}{\\partial y^2} = 0$$\n",
      "\n",
      "This equation is linear and closely resembles Laplace's equation, the fundamental equation that all of potential flow is based on. In the form given above, the equation is valid for:\n",
      "* Flows in the range of mach 0 to 0.8 and mach 1.2 to 5\n",
      "* Geometries that are thin with small angles of attack"
     ]
    },
    {
     "cell_type": "code",
     "collapsed": false,
     "input": [],
     "language": "python",
     "metadata": {},
     "outputs": []
    }
   ],
   "metadata": {}
  }
 ]
}