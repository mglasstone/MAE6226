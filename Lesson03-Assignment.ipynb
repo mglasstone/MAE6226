{
 "metadata": {
  "name": "",
  "signature": "sha256:0a9e17bf4a0db007a79ed6b5d584f015c8eb12aad19dfc1cf2da18dc24ab103a"
 },
 "nbformat": 3,
 "nbformat_minor": 0,
 "worksheets": [
  {
   "cells": [
    {
     "cell_type": "code",
     "collapsed": false,
     "input": [
      "# Question Answerss\n",
      "# Where is the point of maximum pressure?\n",
      "    # The leading edge \"point\" - the point the fluid hits first\n",
      "# What do we call that point?\n",
      "    # Stagnation Point\n",
      "# Will the airfoil generate any lift?\n",
      "    # No - Symmetric with no angle of attack"
     ],
     "language": "python",
     "metadata": {},
     "outputs": [],
     "prompt_number": 29
    },
    {
     "cell_type": "code",
     "collapsed": false,
     "input": [
      "# Load Libraries\n",
      "import math\n",
      "import numpy\n",
      "from matplotlib import pyplot"
     ],
     "language": "python",
     "metadata": {},
     "outputs": [],
     "prompt_number": 30
    },
    {
     "cell_type": "code",
     "collapsed": false,
     "input": [
      "# generate 51 point mesh\n",
      "N = 51\n",
      "x_start, x_end = -1.0, 2.0\n",
      "y_start, y_end = -0.5, 0.5\n",
      "\n",
      "x = numpy.linspace(x_start, x_end, N)\n",
      "y = numpy.linspace(y_start, y_end, N)\n",
      "\n",
      "X, Y = numpy.meshgrid(x, y)"
     ],
     "language": "python",
     "metadata": {},
     "outputs": [],
     "prompt_number": 31
    },
    {
     "cell_type": "code",
     "collapsed": false,
     "input": [
      "# load text file data and print to visualize\n",
      "NACA_x = numpy.loadtxt(\"NACA0012_x.txt\")\n",
      "NACA_y = numpy.loadtxt(\"NACA0012_y.txt\")\n",
      "NACA_sigma = numpy.loadtxt(\"NACA0012_sigma.txt\")\n",
      "\n",
      "#print 'x=', NACA_x\n",
      "#print 'y=', NACA_y\n",
      "#print 'sigma', NACA_sigma"
     ],
     "language": "python",
     "metadata": {},
     "outputs": [
      {
       "ename": "NameError",
       "evalue": "name 'numpy' is not defined",
       "output_type": "pyerr",
       "traceback": [
        "\u001b[0;31m---------------------------------------------------------------------------\u001b[0m\n\u001b[0;31mNameError\u001b[0m                                 Traceback (most recent call last)",
        "\u001b[0;32m<ipython-input-1-305bc9fe4ecd>\u001b[0m in \u001b[0;36m<module>\u001b[0;34m()\u001b[0m\n\u001b[1;32m      1\u001b[0m \u001b[0;31m# load text file data and print to visualize\u001b[0m\u001b[0;34m\u001b[0m\u001b[0;34m\u001b[0m\u001b[0m\n\u001b[0;32m----> 2\u001b[0;31m \u001b[0mNACA_x\u001b[0m \u001b[0;34m=\u001b[0m \u001b[0mnumpy\u001b[0m\u001b[0;34m.\u001b[0m\u001b[0mloadtxt\u001b[0m\u001b[0;34m(\u001b[0m\u001b[0;34m\"NACA0012_x.txt\"\u001b[0m\u001b[0;34m)\u001b[0m\u001b[0;34m\u001b[0m\u001b[0m\n\u001b[0m\u001b[1;32m      3\u001b[0m \u001b[0mNACA_y\u001b[0m \u001b[0;34m=\u001b[0m \u001b[0mnumpy\u001b[0m\u001b[0;34m.\u001b[0m\u001b[0mloadtxt\u001b[0m\u001b[0;34m(\u001b[0m\u001b[0;34m\"NACA0012_y.txt\"\u001b[0m\u001b[0;34m)\u001b[0m\u001b[0;34m\u001b[0m\u001b[0m\n\u001b[1;32m      4\u001b[0m \u001b[0mNACA_sigma\u001b[0m \u001b[0;34m=\u001b[0m \u001b[0mnumpy\u001b[0m\u001b[0;34m.\u001b[0m\u001b[0mloadtxt\u001b[0m\u001b[0;34m(\u001b[0m\u001b[0;34m\"NACA0012_sigma.txt\"\u001b[0m\u001b[0;34m)\u001b[0m\u001b[0;34m\u001b[0m\u001b[0m\n\u001b[1;32m      5\u001b[0m \u001b[0;34m\u001b[0m\u001b[0m\n",
        "\u001b[0;31mNameError\u001b[0m: name 'numpy' is not defined"
       ]
      }
     ],
     "prompt_number": 1
    },
    {
     "cell_type": "code",
     "collapsed": false,
     "input": [],
     "language": "python",
     "metadata": {},
     "outputs": []
    }
   ],
   "metadata": {}
  }
 ]
}